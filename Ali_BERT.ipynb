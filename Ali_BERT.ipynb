{
  "nbformat": 4,
  "nbformat_minor": 0,
  "metadata": {
    "colab": {
      "provenance": [],
      "authorship_tag": "ABX9TyOYLZz2diFOnexyPiR6Xpx6",
      "include_colab_link": true
    },
    "kernelspec": {
      "name": "python3",
      "display_name": "Python 3"
    },
    "language_info": {
      "name": "python"
    }
  },
  "cells": [
    {
      "cell_type": "markdown",
      "metadata": {
        "id": "view-in-github",
        "colab_type": "text"
      },
      "source": [
        "<a href=\"https://colab.research.google.com/github/WajidAliKhan88/Multi-column-Knowledge-oriented-Causality-Network/blob/main/Ali_BERT.ipynb\" target=\"_parent\"><img src=\"https://colab.research.google.com/assets/colab-badge.svg\" alt=\"Open In Colab\"/></a>"
      ]
    },
    {
      "cell_type": "markdown",
      "source": [
        "**BERT Fine-Tuning Tutorial with PyTorch**\n",
        "\n",
        "By WAJID ALI"
      ],
      "metadata": {
        "id": "SeH1u30iBfeM"
      }
    },
    {
      "cell_type": "markdown",
      "source": [
        "In this tutorial I'll show you how to use BERT with the huggingface PyTorch library to quickly and efficiently fine-tune a model to get near state of the art performance in sentence classification. More broadly, I describe the practical application of transfer learning in NLP to create high performance models with minimal effort on a range of NLP tasks."
      ],
      "metadata": {
        "id": "V47NmF6sBuY7"
      }
    },
    {
      "cell_type": "markdown",
      "source": [
        "# **Introduction**"
      ],
      "metadata": {
        "id": "JSZHUzINB9fr"
      }
    },
    {
      "cell_type": "markdown",
      "source": [
        "## **History**"
      ],
      "metadata": {
        "id": "G1_sExv1CDUj"
      }
    },
    {
      "cell_type": "markdown",
      "source": [
        "2018 was a breakthrough year in NLP. Transfer learning, particularly models like Allen AI's ELMO, OpenAI's Open-GPT, and Google's BERT allowed researchers to smash multiple benchmarks with minimal task-specific fine-tuning and provided the rest of the NLP community with pretrained models that could easily (with less data and less compute time) be fine-tuned and implemented to produce state of the art results. Unfortunately, for many starting out in NLP and even for some experienced practicioners, the theory and practical application of these powerful models is still not well understood."
      ],
      "metadata": {
        "id": "aoFf7wrkCHr7"
      }
    },
    {
      "cell_type": "markdown",
      "source": [
        "# **What is BERT?**\n",
        "BERT (Bidirectional Encoder Representations from Transformers), released in late 2018, is the model we will use in this tutorial to provide readers with a better understanding of and practical guidance for using transfer learning models in NLP. BERT is a method of pretraining language representations that was used to create models that NLP practicioners can then download and use for free. You can either use these models to extract high quality language features from your text data, or you can fine-tune these models on a specific task (classification, entity recognition, question answering, etc.) with your own data to produce state of the art predictions.\n",
        "\n",
        "This post will explain how you can modify and fine-tune BERT to create a powerful NLP model that quickly gives you state of the art results."
      ],
      "metadata": {
        "id": "cwMamdDXCSlE"
      }
    },
    {
      "cell_type": "markdown",
      "source": [],
      "metadata": {
        "id": "VJnsswPFBe0F"
      }
    },
    {
      "cell_type": "markdown",
      "source": [
        "## **Advantages of Fine-Tuning**"
      ],
      "metadata": {
        "id": "avtj298ECZu0"
      }
    },
    {
      "cell_type": "markdown",
      "source": [
        "In this tutorial, we will use BERT to train a text classifier. Specifically, we will take the pre-trained BERT model, add an untrained layer of neurons on the end, and train the new model for our classification task. Why do this rather than train a train a specific deep learning model (a CNN, BiLSTM, etc.) that is well suited for the specific NLP task you need?"
      ],
      "metadata": {
        "id": "NVUrfNrlCgkj"
      }
    },
    {
      "cell_type": "markdown",
      "source": [
        "# 1. Quicker Development\n",
        "\n",
        "First, the pre-trained BERT model weights already encode a lot of information about our language. As a result, it takes much less time to train our fine-tuned model - it is as if we have already trained the bottom layers of our network extensively and only need to gently tune them while using their output as features for our classification task. In fact, the authors recommend only 2-4 epochs of training for fine-tuning BERT on a specific NLP task (compared to the hundreds of GPU hours needed to train the original BERT model or a LSTM from scratch!).\n",
        "\n",
        "# 2. Less Data\n",
        "\n",
        "In addition and perhaps just as important, because of the pre-trained weights this method allows us to fine-tune our task on a much smaller dataset than would be required in a model that is built from scratch. A major drawback of NLP models built from scratch is that we often need a prohibitively large dataset in order to train our network to reasonable accuracy, meaning a lot of time and energy had to be put into dataset creation. By fine-tuning BERT, we are now able to get away with training a model to good performance on a much smaller amount of training data.\n",
        "\n",
        "# 3. Better Results\n",
        "\n",
        "Finally, this simple fine-tuning procedure (typically adding one fully-connected layer on top of BERT and training for a few epochs) was shown to achieve state of the art results with minimal task-specific adjustments for a wide variety of tasks: classification, language inference, semantic similarity, question answering, etc. Rather than implementing custom and sometimes-obscure architetures shown to work well on a specific task, simply fine-tuning BERT is shown to be a better (or at least equal) alternative."
      ],
      "metadata": {
        "id": "-9GVzpjhClR0"
      }
    },
    {
      "cell_type": "markdown",
      "source": [
        "# A Shift in NLP\n",
        "This shift to transfer learning parallels the same shift that took place in computer vision a few years ago. Creating a good deep learning network for computer vision tasks can take millions of parameters and be very expensive to train. Researchers discovered that deep networks learn hierarchical feature representations (simple features like edges at the lowest layers with gradually more complex features at higher layers). Rather than training a new network from scratch each time, the lower layers of a trained network with generalized image features could be copied and transfered for use in another network with a different task. It soon became common practice to download a pre-trained deep network and quickly retrain it for the new task or add additional layers on top - vastly preferable to the expensive process of training a network from scratch. For many, the introduction of deep pre-trained language models in 2018 (ELMO, BERT, ULMFIT, Open-GPT, etc.) signals the same shift to transfer learning in NLP that computer vision saw.\n",
        "\n",
        "**Let's get started!**"
      ],
      "metadata": {
        "id": "LK0jlxsRC69j"
      }
    },
    {
      "cell_type": "markdown",
      "source": [
        "# **1. Setup**"
      ],
      "metadata": {
        "id": "eCKG-sj9C_Tr"
      }
    },
    {
      "cell_type": "markdown",
      "source": [
        "# 1.1. Using Colab GPU for Training"
      ],
      "metadata": {
        "id": "cB2ARYWRDDZP"
      }
    },
    {
      "cell_type": "markdown",
      "source": [
        "Google Colab offers free GPUs and TPUs! Since we'll be training a large neural network it's best to take advantage of this (in this case we'll attach a GPU), otherwise training will take a very long time.\n",
        "\n",
        "A GPU can be added by going to the menu and selecting:\n",
        "\n",
        "Edit 🡒 Notebook Settings 🡒 Hardware accelerator 🡒 (GPU)\n",
        "\n",
        "Then run the following cell to confirm that the GPU is detected."
      ],
      "metadata": {
        "id": "BFk0waaEDHI7"
      }
    },
    {
      "cell_type": "code",
      "source": [
        "import tensorflow as tf\n",
        "\n",
        "# Get the GPU device name.\n",
        "device_name = tf.test.gpu_device_name()\n",
        "\n",
        "# The device name should look like the following:\n",
        "if device_name == '/device:GPU:0':\n",
        "    print('Found GPU at: {}'.format(device_name))\n",
        "else:\n",
        "    raise SystemError('GPU device not found')"
      ],
      "metadata": {
        "id": "DfETnOTKDLIT"
      },
      "execution_count": null,
      "outputs": []
    },
    {
      "cell_type": "markdown",
      "source": [
        "In order for torch to use the GPU, we need to identify and specify the GPU as the device. Later, in our training loop, we will load data onto the device."
      ],
      "metadata": {
        "id": "bPCgTI07DQ-E"
      }
    },
    {
      "cell_type": "code",
      "source": [
        "import torch\n",
        "\n",
        "# If there's a GPU available...\n",
        "if torch.cuda.is_available():    \n",
        "\n",
        "    # Tell PyTorch to use the GPU.    \n",
        "    device = torch.device(\"cuda\")\n",
        "\n",
        "    print('There are %d GPU(s) available.' % torch.cuda.device_count())\n",
        "\n",
        "    print('We will use the GPU:', torch.cuda.get_device_name(0))\n",
        "\n",
        "# If not...\n",
        "else:\n",
        "    print('No GPU available, using the CPU instead.')\n",
        "    device = torch.device(\"cpu\")"
      ],
      "metadata": {
        "id": "BvCwGHtMDU6k"
      },
      "execution_count": null,
      "outputs": []
    },
    {
      "cell_type": "markdown",
      "source": [
        "# 1.2. Installing the Hugging Face Library"
      ],
      "metadata": {
        "id": "XCyVxgpiDXvM"
      }
    },
    {
      "cell_type": "markdown",
      "source": [
        "Next, let's install the transformers package from Hugging Face which will give us a pytorch interface for working with BERT. (This library contains interfaces for other pretrained language models like OpenAI's GPT and GPT-2.) We've selected the pytorch interface because it strikes a nice balance between the high-level APIs (which are easy to use but don't provide insight into how things work) and tensorflow code (which contains lots of details but often sidetracks us into lessons about tensorflow, when the purpose here is BERT!).\n",
        "\n",
        "At the moment, the Hugging Face library seems to be the most widely accepted and powerful pytorch interface for working with BERT. In addition to supporting a variety of different pre-trained transformer models, the library also includes pre-built modifications of these models suited to your specific task. For example, in this tutorial we will use BertForSequenceClassification.\n",
        "\n",
        "The library also includes task-specific classes for token classification, question answering, next sentence prediciton, etc. Using these pre-built classes simplifies the process of modifying BERT for your purposes."
      ],
      "metadata": {
        "id": "ktjxxxOeDcRT"
      }
    },
    {
      "cell_type": "code",
      "source": [
        "!pip install transformers"
      ],
      "metadata": {
        "id": "MDS2O21dDgVT"
      },
      "execution_count": null,
      "outputs": []
    },
    {
      "cell_type": "markdown",
      "source": [
        "The code in this notebook is actually a simplified version of the run_glue.py example script from huggingface.\n",
        "\n",
        "run_glue.py is a helpful utility which allows you to pick which GLUE benchmark task you want to run on, and which pre-trained model you want to use (you can see the list of possible models [here](https://github.com/huggingface/transformers/blob/e6cff60b4cbc1158fbd6e4a1c3afda8dc224f566/examples/run_glue.py#L69)). It also supports using either the CPU, a single GPU, or multiple GPUs. It even supports using 16-bit precision if you want further speed up.\n",
        "\n",
        "Unfortunately, all of this configurability comes at the cost of readability. In this Notebook, we've simplified the code greatly and added plenty of comments to make it clear what's going on."
      ],
      "metadata": {
        "id": "Hdx71OU-Erx1"
      }
    },
    {
      "cell_type": "markdown",
      "source": [
        "# **2. Loading CoLA Dataset**"
      ],
      "metadata": {
        "id": "RSq3RqR-E8Os"
      }
    },
    {
      "cell_type": "markdown",
      "source": [],
      "metadata": {
        "id": "29cm6hAEFrYP"
      }
    },
    {
      "cell_type": "markdown",
      "source": [
        "We'll use The Corpus of Linguistic Acceptability (CoLA) [https://nyu-mll.github.io/CoLA/) dataset for single sentence classification. It's a set of sentences labeled as grammatically correct or incorrect. It was first published in May of 2018, and is one of the tests included in the \"GLUE Benchmark\" on which models like BERT are competing."
      ],
      "metadata": {
        "id": "XBTCfbwiFCK1"
      }
    },
    {
      "cell_type": "markdown",
      "source": [
        "# **2.1. Download & Extract**"
      ],
      "metadata": {
        "id": "HZieT3XAGlkF"
      }
    },
    {
      "cell_type": "markdown",
      "source": [
        "We'll use the wget package to download the dataset to the Colab instance's file system."
      ],
      "metadata": {
        "id": "YnXCGdkIGp6V"
      }
    },
    {
      "cell_type": "code",
      "source": [
        "!pip install wget"
      ],
      "metadata": {
        "id": "3UklV5z1Gs_t"
      },
      "execution_count": null,
      "outputs": []
    },
    {
      "cell_type": "markdown",
      "source": [
        "The dataset is hosted on GitHub in this repo: https://nyu-mll.github.io/CoLA/"
      ],
      "metadata": {
        "id": "IbH6RKZ9GwTF"
      }
    },
    {
      "cell_type": "code",
      "source": [
        "import wget\n",
        "import os\n",
        "\n",
        "print('Downloading dataset...')\n",
        "\n",
        "# The URL for the dataset zip file.\n",
        "url = 'https://nyu-mll.github.io/CoLA/cola_public_1.1.zip'\n",
        "\n",
        "# Download the file (if we haven't already)\n",
        "if not os.path.exists('./cola_public_1.1.zip'):\n",
        "    wget.download(url, './cola_public_1.1.zip')"
      ],
      "metadata": {
        "id": "TmFgZmbiG5Un"
      },
      "execution_count": null,
      "outputs": []
    },
    {
      "cell_type": "markdown",
      "source": [
        "Unzip the dataset to the file system. You can browse the file system of the Colab instance in the sidebar on the left."
      ],
      "metadata": {
        "id": "s0_IWPTdHCi-"
      }
    },
    {
      "cell_type": "markdown",
      "source": [
        "Double-click (or enter) to edit"
      ],
      "metadata": {
        "id": "SM_D3ib6HGYW"
      }
    },
    {
      "cell_type": "code",
      "source": [
        "# Unzip the dataset (if we haven't already)\n",
        "if not os.path.exists('./cola_public/'):\n",
        "    !unzip cola_public_1.1.zip"
      ],
      "metadata": {
        "id": "QctUzEgDHJd1"
      },
      "execution_count": null,
      "outputs": []
    },
    {
      "cell_type": "markdown",
      "source": [
        "# **2.2. Parse**"
      ],
      "metadata": {
        "id": "-Q2U7GhuHNDm"
      }
    },
    {
      "cell_type": "markdown",
      "source": [
        "We can see from the file names that both tokenized and raw versions of the data are available.\n",
        "\n",
        "We can't use the pre-tokenized version because, in order to apply the pre-trained BERT, we must use the tokenizer provided by the model. This is because (1) the model has a specific, fixed vocabulary and (2) the BERT tokenizer has a particular way of handling out-of-vocabulary words"
      ],
      "metadata": {
        "id": "_KKD3VyQHRC9"
      }
    },
    {
      "cell_type": "markdown",
      "source": [
        "We'll use pandas to parse the \"in-domain\" training set and look at a few of its properties and data points."
      ],
      "metadata": {
        "id": "jSHpOGuXHUf9"
      }
    },
    {
      "cell_type": "code",
      "source": [
        "import pandas as pd\n",
        "\n",
        "# Load the dataset into a pandas dataframe.\n",
        "df = pd.read_csv(\"./cola_public/raw/in_domain_train.tsv\", delimiter='\\t', header=None, names=['sentence_source', 'label', 'label_notes', 'sentence'])\n",
        "\n",
        "# Report the number of sentences.\n",
        "print('Number of training sentences: {:,}\\n'.format(df.shape[0]))\n",
        "\n",
        "# Display 10 random rows from the data.\n",
        "df.sample(10)"
      ],
      "metadata": {
        "id": "W-2LrGY5HYN9"
      },
      "execution_count": null,
      "outputs": []
    },
    {
      "cell_type": "markdown",
      "source": [
        "The two properties we actually care about are the the sentence and its label, which is referred to as the \"acceptibility judgment\" (0=unacceptable, 1=acceptable)."
      ],
      "metadata": {
        "id": "33DpDhXVHbn2"
      }
    },
    {
      "cell_type": "markdown",
      "source": [
        "Here are five sentences which are labeled as not grammatically acceptible. Note how much more difficult this task is than something like sentiment analysis!"
      ],
      "metadata": {
        "id": "5Wd4ALeNHe71"
      }
    },
    {
      "cell_type": "code",
      "source": [
        "df.loc[df.label == 0].sample(5)[['sentence', 'label']]"
      ],
      "metadata": {
        "id": "xm8iOR2zHiO2"
      },
      "execution_count": null,
      "outputs": []
    },
    {
      "cell_type": "markdown",
      "source": [
        "Let's extract the sentences and labels of our training set as numpy ndarrays."
      ],
      "metadata": {
        "id": "UZkYhJKlHk3O"
      }
    },
    {
      "cell_type": "code",
      "source": [
        "# Get the lists of sentences and their labels.\n",
        "sentences = df.sentence.values\n",
        "labels = df.label.values"
      ],
      "metadata": {
        "id": "Ry8e9Ut8Hm_e"
      },
      "execution_count": null,
      "outputs": []
    },
    {
      "cell_type": "markdown",
      "source": [
        "# **3. Tokenization & Input Formatting**\n",
        "In this section, we'll transform our dataset into the format that BERT can be trained on."
      ],
      "metadata": {
        "id": "qzjxepc2Hr5m"
      }
    },
    {
      "cell_type": "markdown",
      "source": [
        "# 3.1. BERT Tokenizer"
      ],
      "metadata": {
        "id": "Ub6d2vd3HwQV"
      }
    },
    {
      "cell_type": "markdown",
      "source": [
        "To feed our text to BERT, it must be split into tokens, and then these tokens must be mapped to their index in the tokenizer vocabulary.\n",
        "\n",
        "The tokenization must be performed by the tokenizer included with BERT--the below cell will download this for us. We'll be using the \"uncased\" version here."
      ],
      "metadata": {
        "id": "I-JyA9F-Hzkt"
      }
    },
    {
      "cell_type": "code",
      "source": [
        "from transformers import BertTokenizer\n",
        "\n",
        "# Load the BERT tokenizer.\n",
        "print('Loading BERT tokenizer...')\n",
        "tokenizer = BertTokenizer.from_pretrained('bert-base-uncased', do_lower_case=True)"
      ],
      "metadata": {
        "id": "KTXmRQ5aH31Y"
      },
      "execution_count": null,
      "outputs": []
    },
    {
      "cell_type": "markdown",
      "source": [
        "Let's apply the tokenizer to one sentence just to see the output."
      ],
      "metadata": {
        "id": "0RjAxvA_H6q-"
      }
    },
    {
      "cell_type": "code",
      "source": [
        "# Print the original sentence.\n",
        "print(' Original: ', sentences[0])\n",
        "\n",
        "# Print the sentence split into tokens.\n",
        "print('Tokenized: ', tokenizer.tokenize(sentences[0]))\n",
        "\n",
        "# Print the sentence mapped to token ids.\n",
        "print('Token IDs: ', tokenizer.convert_tokens_to_ids(tokenizer.tokenize(sentences[0])))"
      ],
      "metadata": {
        "id": "n_1dpZyRH8_m"
      },
      "execution_count": null,
      "outputs": []
    },
    {
      "cell_type": "markdown",
      "source": [
        "When we actually convert all of our sentences, we'll use the tokenize.encode function to handle both steps, rather than calling tokenize and convert_tokens_to_ids separately.\n",
        "\n",
        "Before we can do that, though, we need to talk about some of BERT's formatting requirements."
      ],
      "metadata": {
        "id": "5LgzsTHrH_YH"
      }
    },
    {
      "cell_type": "markdown",
      "source": [
        "# 3.2. Required Formatting"
      ],
      "metadata": {
        "id": "uGALfxCKIC52"
      }
    },
    {
      "cell_type": "markdown",
      "source": [
        "The above code left out a few required formatting steps that we'll look at here.\n",
        "\n",
        "Side Note: The input format to BERT seems \"over-specified\" to me... We are required to give it a number of pieces of information which seem redundant, or like they could easily be inferred from the data without us explicity providing it. But it is what it is, and I suspect it will make more sense once I have a deeper understanding of the BERT internals.\n",
        "\n",
        "We are required to:\n",
        "\n",
        "1. Add special tokens to the start and end of each sentence.\n",
        "2. Pad & truncate all sentences to a single constant length.\n",
        "3. Explicitly differentiate real tokens from padding tokens with the \"attention mask\"."
      ],
      "metadata": {
        "id": "yA9twBoaIF0v"
      }
    },
    {
      "cell_type": "markdown",
      "source": [
        "# **Special Tokens**"
      ],
      "metadata": {
        "id": "SZQNZp7AIONn"
      }
    },
    {
      "cell_type": "markdown",
      "source": [
        "# **[SEP]**\n",
        "\n",
        "At the end of every sentence, we need to append the special [SEP] token.\n",
        "\n",
        "This token is an artifact of two-sentence tasks, where BERT is given two separate sentences and asked to determine something (e.g., can the answer to the question in sentence A be found in sentence B?).\n",
        "\n",
        "I am not certain yet why the token is still required when we have only single-sentence input, but it is!"
      ],
      "metadata": {
        "id": "QoG-8VrtIRoI"
      }
    },
    {
      "cell_type": "markdown",
      "source": [
        "# **[CLS]**\n",
        "\n",
        "For classification tasks, we must prepend the special [CLS] token to the beginning of every sentence.\n",
        "\n",
        "This token has special significance. BERT consists of 12 Transformer layers. Each transformer takes in a list of token embeddings, and produces the same number of embeddings on the output (but with the feature values changed, of course!)."
      ],
      "metadata": {
        "id": "uQWlVfCzIYt9"
      }
    },
    {
      "cell_type": "markdown",
      "source": [
        "![CLS_token_500x606.png](data:image/png;base64,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)"
      ],
      "metadata": {
        "id": "3lJYGLTkIePW"
      }
    },
    {
      "cell_type": "markdown",
      "source": [
        "On the output of the final (12th) transformer, only the first embedding (corresponding to the [CLS] token) is used by the classifier.\n",
        "\n",
        "\"The first token of every sequence is always a special classification token ([CLS]). The final hidden state corresponding to this token is used as the aggregate sequence representation for classification tasks.\" (from the [BERT paper](https://arxiv.org/pdf/1810.04805.pdf))"
      ],
      "metadata": {
        "id": "CS1oUiyzI9w-"
      }
    },
    {
      "cell_type": "markdown",
      "source": [
        "I'm not sure why the authors took this strategy instead of some kind of pooling of all the final vectors, but I'm sure that if pooling were better they would have gone that route.\n",
        "Also, because BERT is trained to only use this **[CLS]** token for classification, we know that the model has been motivated to encode everything it needs for the classification step into that single 768-value embedding vector."
      ],
      "metadata": {
        "id": "GEJJY5jrJI4Q"
      }
    },
    {
      "cell_type": "markdown",
      "source": [
        "# **Sentence Length & Attention Mask**"
      ],
      "metadata": {
        "id": "8EeVw7MxJZpo"
      }
    },
    {
      "cell_type": "markdown",
      "source": [
        "The sentences in our dataset obviously have varying lengths, so how does BERT handle this?\n",
        "\n",
        "**BERT has two constraints**:\n",
        "\n",
        "All sentences must be padded or truncated to a single, fixed length.\n",
        "The maximum sentence length is 512 tokens.\n",
        "Padding is done with a special [PAD] token, which is at index 0 in the BERT vocabulary. The below illustration demonstrates padding out to a \"MAX_LEN\" of 8 tokens."
      ],
      "metadata": {
        "id": "RD3pQe2DJe43"
      }
    },
    {
      "cell_type": "markdown",
      "source": [
        "![image.png](data:image/png;base64,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)"
      ],
      "metadata": {
        "id": "eqKbnjGHJvuu"
      }
    },
    {
      "cell_type": "markdown",
      "source": [
        "The \"Attention Mask\" is simply an array of 1s and 0s indicating which tokens are padding and which aren't (seems kind of redundant, doesn't it?! Again, I don't currently know why).\n",
        "\n",
        "I've experimented with running this notebook with two different values of MAX_LEN, and it impacted both the training speed and the test set accuracy.\n",
        "\n",
        "With a Tesla K80 and:\n",
        "\n",
        "MAX_LEN = 128  -->  Training epochs take ~5:28 each, score is 0.535\n",
        "MAX_LEN = 64   -->  Training epochs take ~2:57 each, score is 0.566\n",
        "These results suggest to me that the padding tokens aren't simply skipped over--that they are in fact fed through the model and incorporated in the results (thereby impacting both model speed and accuracy). I'll have to dig into the architecture more to understand this."
      ],
      "metadata": {
        "id": "1PBlWL_8JtyN"
      }
    },
    {
      "cell_type": "markdown",
      "source": [
        "# **3.2. Sentences to IDs**"
      ],
      "metadata": {
        "id": "p0av54HeJ7uf"
      }
    },
    {
      "cell_type": "markdown",
      "source": [
        "The tokenizer.encode function combines multiple steps for us:\n",
        "\n",
        "1. Split the sentence into tokens.\n",
        "2. Add the special [CLS] and [SEP] tokens.\n",
        "3. Map the tokens to their IDs.\n",
        "Oddly, this function can perform truncating for us, but doesn't handle padding."
      ],
      "metadata": {
        "id": "roomK91RJ_Vu"
      }
    },
    {
      "cell_type": "code",
      "source": [
        "# Tokenize all of the sentences and map the tokens to thier word IDs.\n",
        "input_ids = []\n",
        "\n",
        "# For every sentence...\n",
        "for sent in sentences:\n",
        "    # `encode` will:\n",
        "    #   (1) Tokenize the sentence.\n",
        "    #   (2) Prepend the `[CLS]` token to the start.\n",
        "    #   (3) Append the `[SEP]` token to the end.\n",
        "    #   (4) Map tokens to their IDs.\n",
        "    encoded_sent = tokenizer.encode(\n",
        "                        sent,                      # Sentence to encode.\n",
        "                        add_special_tokens = True, # Add '[CLS]' and '[SEP]'\n",
        "\n",
        "                        # This function also supports truncation and conversion\n",
        "                        # to pytorch tensors, but we need to do padding, so we\n",
        "                        # can't use these features :( .\n",
        "                        #max_length = 128,          # Truncate all sentences.\n",
        "                        #return_tensors = 'pt',     # Return pytorch tensors.\n",
        "                   )\n",
        "    \n",
        "    # Add the encoded sentence to the list.\n",
        "    input_ids.append(encoded_sent)\n",
        "\n",
        "# Print sentence 0, now as a list of IDs.\n",
        "print('Original: ', sentences[0])\n",
        "print('Token IDs:', input_ids[0])"
      ],
      "metadata": {
        "id": "kI1lOC85KIWY"
      },
      "execution_count": null,
      "outputs": []
    },
    {
      "cell_type": "code",
      "source": [],
      "metadata": {
        "id": "ui6s3iHnKPdG"
      },
      "execution_count": null,
      "outputs": []
    },
    {
      "cell_type": "markdown",
      "source": [
        "# **3.3. Padding & Truncating**"
      ],
      "metadata": {
        "id": "c1lXZ5SeKLGu"
      }
    },
    {
      "cell_type": "markdown",
      "source": [
        "Pad and truncate our sequences so that they all have the same length, MAX_LEN.\n",
        "\n",
        "First, what's the maximum sentence length in our dataset?"
      ],
      "metadata": {
        "id": "3XlzbzTHKOuW"
      }
    },
    {
      "cell_type": "code",
      "source": [
        "print('Max sentence length: ', max([len(sen) for sen in input_ids]))"
      ],
      "metadata": {
        "id": "auItaeqSKSNO"
      },
      "execution_count": null,
      "outputs": []
    },
    {
      "cell_type": "markdown",
      "source": [
        "Given that, let's choose MAX_LEN = 64 and apply the padding."
      ],
      "metadata": {
        "id": "-ad2KhXSKU_O"
      }
    },
    {
      "cell_type": "code",
      "source": [
        "# We'll borrow the `pad_sequences` utility function to do this.\n",
        "from keras.preprocessing.sequence import pad_sequences\n",
        "\n",
        "# Set the maximum sequence length.\n",
        "# I've chosen 64 somewhat arbitrarily. It's slightly larger than the\n",
        "# maximum training sentence length of 47...\n",
        "MAX_LEN = 64\n",
        "\n",
        "print('\\nPadding/truncating all sentences to %d values...' % MAX_LEN)\n",
        "\n",
        "print('\\nPadding token: \"{:}\", ID: {:}'.format(tokenizer.pad_token, tokenizer.pad_token_id))\n",
        "\n",
        "# Pad our input tokens with value 0.\n",
        "# \"post\" indicates that we want to pad and truncate at the end of the sequence,\n",
        "# as opposed to the beginning.\n",
        "input_ids = pad_sequences(input_ids, maxlen=MAX_LEN, dtype=\"long\", \n",
        "                          value=0, truncating=\"post\", padding=\"post\")\n",
        "\n",
        "print('\\nDone.')"
      ],
      "metadata": {
        "id": "ji0FWo3CKdfq"
      },
      "execution_count": null,
      "outputs": []
    },
    {
      "cell_type": "markdown",
      "source": [
        "# **3.4. Attention Masks**"
      ],
      "metadata": {
        "id": "nNPfa9yHKj6n"
      }
    },
    {
      "cell_type": "markdown",
      "source": [
        "The attention mask simply makes it explicit which tokens are actual words versus which are padding.\n",
        "\n",
        "The BERT vocabulary does not use the ID 0, so if a token ID is 0, then it's padding, and otherwise it's a real token."
      ],
      "metadata": {
        "id": "bIKVQDONKnC3"
      }
    },
    {
      "cell_type": "code",
      "source": [
        "# Create attention masks\n",
        "attention_masks = []\n",
        "\n",
        "# For each sentence...\n",
        "for sent in input_ids:\n",
        "    \n",
        "    # Create the attention mask.\n",
        "    #   - If a token ID is 0, then it's padding, set the mask to 0.\n",
        "    #   - If a token ID is > 0, then it's a real token, set the mask to 1.\n",
        "    att_mask = [int(token_id > 0) for token_id in sent]\n",
        "    \n",
        "    # Store the attention mask for this sentence.\n",
        "    attention_masks.append(att_mask)"
      ],
      "metadata": {
        "id": "BYRMj4X8Kqtw"
      },
      "execution_count": null,
      "outputs": []
    },
    {
      "cell_type": "markdown",
      "source": [
        "# **3.5. Training & Validation Split**"
      ],
      "metadata": {
        "id": "PYEx0JAMKtl_"
      }
    },
    {
      "cell_type": "markdown",
      "source": [
        "Divide up our training set to use 90% for training and 10% for validation."
      ],
      "metadata": {
        "id": "0auZreuXKwpX"
      }
    },
    {
      "cell_type": "code",
      "source": [
        "# Use train_test_split to split our data into train and validation sets for\n",
        "# training\n",
        "from sklearn.model_selection import train_test_split\n",
        "\n",
        "# Use 90% for training and 10% for validation.\n",
        "train_inputs, validation_inputs, train_labels, validation_labels = train_test_split(input_ids, labels, \n",
        "                                                            random_state=2018, test_size=0.1)\n",
        "# Do the same for the masks.\n",
        "train_masks, validation_masks, _, _ = train_test_split(attention_masks, labels,\n",
        "                                             random_state=2018, test_size=0.1)"
      ],
      "metadata": {
        "id": "xDTYIo50KzS_"
      },
      "execution_count": null,
      "outputs": []
    },
    {
      "cell_type": "markdown",
      "source": [
        "## **3.6. Converting to PyTorch Data Types**"
      ],
      "metadata": {
        "id": "WTyQ1GwSK1yP"
      }
    },
    {
      "cell_type": "markdown",
      "source": [
        "Our model expects PyTorch tensors rather than numpy.ndarrays, so convert all of our dataset variables."
      ],
      "metadata": {
        "id": "UtuM4TE-K-1Q"
      }
    },
    {
      "cell_type": "code",
      "source": [
        "# Convert all inputs and labels into torch tensors, the required datatype \n",
        "# for our model.\n",
        "train_inputs = torch.tensor(train_inputs)\n",
        "validation_inputs = torch.tensor(validation_inputs)\n",
        "\n",
        "train_labels = torch.tensor(train_labels)\n",
        "validation_labels = torch.tensor(validation_labels)\n",
        "\n",
        "train_masks = torch.tensor(train_masks)\n",
        "validation_masks = torch.tensor(validation_masks)"
      ],
      "metadata": {
        "id": "LgGbnDypK_z2"
      },
      "execution_count": null,
      "outputs": []
    },
    {
      "cell_type": "markdown",
      "source": [
        "We'll also create an iterator for our dataset using the torch DataLoader class. This helps save on memory during training because, unlike a for loop, with an iterator the entire dataset does not need to be loaded into memory."
      ],
      "metadata": {
        "id": "jPiyBMdKLB7x"
      }
    },
    {
      "cell_type": "code",
      "source": [
        "from torch.utils.data import TensorDataset, DataLoader, RandomSampler, SequentialSampler\n",
        "\n",
        "# The DataLoader needs to know our batch size for training, so we specify it \n",
        "# here.\n",
        "# For fine-tuning BERT on a specific task, the authors recommend a batch size of\n",
        "# 16 or 32.\n",
        "\n",
        "batch_size = 32\n",
        "\n",
        "# Create the DataLoader for our training set.\n",
        "train_data = TensorDataset(train_inputs, train_masks, train_labels)\n",
        "train_sampler = RandomSampler(train_data)\n",
        "train_dataloader = DataLoader(train_data, sampler=train_sampler, batch_size=batch_size)\n",
        "\n",
        "# Create the DataLoader for our validation set.\n",
        "validation_data = TensorDataset(validation_inputs, validation_masks, validation_labels)\n",
        "validation_sampler = SequentialSampler(validation_data)\n",
        "validation_dataloader = DataLoader(validation_data, sampler=validation_sampler, batch_size=batch_size)"
      ],
      "metadata": {
        "id": "QNGAPunyLEBu"
      },
      "execution_count": null,
      "outputs": []
    },
    {
      "cell_type": "markdown",
      "source": [
        "# **4. Train Our Classification Model**"
      ],
      "metadata": {
        "id": "hU8IsFWbLG-H"
      }
    },
    {
      "cell_type": "markdown",
      "source": [
        "# 4.1. BertForSequenceClassification"
      ],
      "metadata": {
        "id": "_gv8dnb5LShp"
      }
    },
    {
      "cell_type": "markdown",
      "source": [
        "Now that our input data is properly formatted, it's time to fine tune the BERT model."
      ],
      "metadata": {
        "id": "8Mc_8_R8LMof"
      }
    },
    {
      "cell_type": "markdown",
      "source": [
        "For this task, we first want to modify the pre-trained BERT model to give outputs for classification, and then we want to continue training the model on our dataset until that the entire model, end-to-end, is well-suited for our task.\n",
        "\n",
        "Thankfully, the huggingface pytorch implementation includes a set of interfaces designed for a variety of NLP tasks. Though these interfaces are all built on top of a trained BERT model, each has different top layers and output types designed to accomodate their specific NLP task.\n",
        "\n",
        "Here is the current list of classes provided for fine-tuning:\n",
        "\n",
        "\n",
        "\n",
        "*  BertModel\n",
        "*  Bert For PreTraining\n",
        "*  Bert For Masked LM\n",
        "*  Bert For Next Sentence Prediction\n",
        "\n",
        "*  Bert For Sequence Classification - The one we'll use.\n",
        "*  Bert For Token Classification\n",
        "*  Bert For Questio nAnswering\n",
        "\n",
        "The documentation for these can be found under [here](https://huggingface.co/transformers/v2.2.0/model_doc/bert.html)."
      ],
      "metadata": {
        "id": "tgkV0tdCLNgP"
      }
    },
    {
      "cell_type": "markdown",
      "source": [
        "We'll be using [BertForSequenceClassification](https://huggingface.co/transformers/v2.2.0/model_doc/bert.html#bertforsequenceclassification). This is the normal BERT model with an added single linear layer on top for classification that we will use as a sentence classifier. As we feed input data, the entire pre-trained BERT model and the additional untrained classification layer is trained on our specific task."
      ],
      "metadata": {
        "id": "p_FBjsBzMODf"
      }
    },
    {
      "cell_type": "markdown",
      "source": [
        "OK, let's load BERT! There are a few different pre-trained BERT models available. \"bert-base-uncased\" means the version that has only lowercase letters (\"uncased\") and is the smaller version of the two (\"base\" vs \"large\").\n",
        "\n",
        "The documentation for from_pretrained can be found [here](https://huggingface.co/transformers/v2.2.0/main_classes/model.html#transformers.PreTrainedModel.from_pretrained), with the additional parameters defined [here](https://huggingface.co/transformers/v2.2.0/main_classes/configuration.html#transformers.PretrainedConfig)."
      ],
      "metadata": {
        "id": "9wOc3BBiMYIg"
      }
    },
    {
      "cell_type": "code",
      "source": [
        "from transformers import BertForSequenceClassification, AdamW, BertConfig\n",
        "\n",
        "# Load BertForSequenceClassification, the pretrained BERT model with a single \n",
        "# linear classification layer on top. \n",
        "model = BertForSequenceClassification.from_pretrained(\n",
        "    \"bert-base-uncased\", # Use the 12-layer BERT model, with an uncased vocab.\n",
        "    num_labels = 2, # The number of output labels--2 for binary classification.\n",
        "                    # You can increase this for multi-class tasks.   \n",
        "    output_attentions = False, # Whether the model returns attentions weights.\n",
        "    output_hidden_states = False, # Whether the model returns all hidden-states.\n",
        ")\n",
        "\n",
        "# Tell pytorch to run this model on the GPU.\n",
        "model.cuda()"
      ],
      "metadata": {
        "id": "GuFVDUc8Mp6w"
      },
      "execution_count": null,
      "outputs": []
    },
    {
      "cell_type": "markdown",
      "source": [
        "Just for curiosity's sake, we can browse all of the model's parameters by name here.\n",
        "\n",
        "In the below cell, I've printed out the names and dimensions of the weights for:\n",
        "\n",
        "1. The embedding layer.\n",
        "2. The first of the twelve transformers.\n",
        "3. The output layer."
      ],
      "metadata": {
        "id": "5EijOimpMuf4"
      }
    },
    {
      "cell_type": "code",
      "source": [
        "# Get all of the model's parameters as a list of tuples.\n",
        "params = list(model.named_parameters())\n",
        "\n",
        "print('The BERT model has {:} different named parameters.\\n'.format(len(params)))\n",
        "\n",
        "print('==== Embedding Layer ====\\n')\n",
        "\n",
        "for p in params[0:5]:\n",
        "    print(\"{:<55} {:>12}\".format(p[0], str(tuple(p[1].size()))))\n",
        "\n",
        "print('\\n==== First Transformer ====\\n')\n",
        "\n",
        "for p in params[5:21]:\n",
        "    print(\"{:<55} {:>12}\".format(p[0], str(tuple(p[1].size()))))\n",
        "\n",
        "print('\\n==== Output Layer ====\\n')\n",
        "\n",
        "for p in params[-4:]:\n",
        "    print(\"{:<55} {:>12}\".format(p[0], str(tuple(p[1].size()))))"
      ],
      "metadata": {
        "id": "1dPGbLrpM20g"
      },
      "execution_count": null,
      "outputs": []
    },
    {
      "cell_type": "markdown",
      "source": [
        "# **4.2. Optimizer & Learning Rate Scheduler**"
      ],
      "metadata": {
        "id": "MKOuXaFwM6R4"
      }
    },
    {
      "cell_type": "markdown",
      "source": [
        "Now that we have our model loaded we need to grab the training hyperparameters from within the stored model.\n",
        "\n",
        "For the purposes of fine-tuning, the authors recommend choosing from the following values:\n",
        "\n",
        "Batch size: 16, 32 (We chose 32 when creating our DataLoaders).\n",
        "Learning rate (Adam): 5e-5, 3e-5, 2e-5 (We'll use 2e-5).\n",
        "Number of epochs: 2, 3, 4 (We'll use 4).\n",
        "The epsilon parameter eps = 1e-8 is \"a very small number to prevent any division by zero in the implementation\" (from [here](https://machinelearningmastery.com/adam-optimization-algorithm-for-deep-learning/)).\n",
        "\n",
        "You can find the creation of the AdamW optimizer in run_glue.py [here](https://github.com/huggingface/transformers/blob/5bfcd0485ece086ebcbed2d008813037968a9e58/examples/run_glue.py#L109)."
      ],
      "metadata": {
        "id": "ZIXu7bu8M-mQ"
      }
    },
    {
      "cell_type": "code",
      "source": [
        "# Note: AdamW is a class from the huggingface library (as opposed to pytorch) \n",
        "# I believe the 'W' stands for 'Weight Decay fix\"\n",
        "optimizer = AdamW(model.parameters(),\n",
        "                  lr = 2e-5, # args.learning_rate - default is 5e-5, our notebook had 2e-5\n",
        "                  eps = 1e-8 # args.adam_epsilon  - default is 1e-8.\n",
        "                )"
      ],
      "metadata": {
        "id": "rjBssCcvNVeg"
      },
      "execution_count": null,
      "outputs": []
    },
    {
      "cell_type": "code",
      "source": [
        "from transformers import get_linear_schedule_with_warmup\n",
        "\n",
        "# Number of training epochs (authors recommend between 2 and 4)\n",
        "epochs = 4\n",
        "\n",
        "# Total number of training steps is number of batches * number of epochs.\n",
        "total_steps = len(train_dataloader) * epochs\n",
        "\n",
        "# Create the learning rate scheduler.\n",
        "scheduler = get_linear_schedule_with_warmup(optimizer, \n",
        "                                            num_warmup_steps = 0, # Default value in run_glue.py\n",
        "                                            num_training_steps = total_steps)"
      ],
      "metadata": {
        "id": "GI6pmZ57NWPZ"
      },
      "execution_count": null,
      "outputs": []
    },
    {
      "cell_type": "markdown",
      "source": [
        "# 4.3. Training Loop"
      ],
      "metadata": {
        "id": "IqVFsx62Namf"
      }
    },
    {
      "cell_type": "markdown",
      "source": [
        "Below is our training loop. There's a lot going on, but fundamentally for each pass in our loop we have a trianing phase and a validation phase. At each pass we need to:\n",
        "\n",
        "Training loop:\n",
        "\n",
        "\n",
        "\n",
        "*   Unpack our data inputs and labels\n",
        "*   Load data onto the GPU for acceleration\n",
        "*   Clear out the gradients calculated in the previous pass.\n",
        "\n",
        "     * In pytorch the gradients accumulate by default (useful for things like \n",
        "        RNNs) unless you explicitly clear them out.\n",
        "\n",
        "\n",
        "*   Forward pass (feed input data through the network)\n",
        "*   Backward pass (backpropagation)\n",
        "*   Tell the network to update parameters with optimizer.step()\n",
        "*   Track variables for monitoring progress\n",
        "\n",
        "\n",
        "Evalution loop:\n",
        "\n",
        "\n",
        "*   Unpack our data inputs and labels\n",
        "*   Load data onto the GPU for acceleration\n",
        "\n",
        "*   Forward pass (feed input data through the network)\n",
        "*   Compute loss on our validation data and track variables for monitoring  progress\n",
        "\n",
        "\n",
        "So please read carefully through the comments to get an understanding of what's happening. If you're unfamiliar with pytorch a quick look at some of their [beginner tutorials](https://pytorch.org/tutorials/beginner/blitz/cifar10_tutorial.html#sphx-glr-beginner-blitz-cifar10-tutorial-py) will help show you that training loops really involve only a few simple steps; the rest is usually just decoration and logging."
      ],
      "metadata": {
        "id": "0PFn_qnCNfn4"
      }
    },
    {
      "cell_type": "markdown",
      "source": [
        "Define a helper function for calculating accuracy."
      ],
      "metadata": {
        "id": "vtd_hib7OwJw"
      }
    },
    {
      "cell_type": "code",
      "source": [
        "import numpy as np\n",
        "\n",
        "# Function to calculate the accuracy of our predictions vs labels\n",
        "def flat_accuracy(preds, labels):\n",
        "    pred_flat = np.argmax(preds, axis=1).flatten()\n",
        "    labels_flat = labels.flatten()\n",
        "    return np.sum(pred_flat == labels_flat) / len(labels_flat)"
      ],
      "metadata": {
        "id": "aYlBxrGFOzBg"
      },
      "execution_count": null,
      "outputs": []
    },
    {
      "cell_type": "markdown",
      "source": [
        "Helper function for formatting elapsed times."
      ],
      "metadata": {
        "id": "PwadqO9yO1QA"
      }
    },
    {
      "cell_type": "code",
      "source": [
        "import time\n",
        "import datetime\n",
        "\n",
        "def format_time(elapsed):\n",
        "    '''\n",
        "    Takes a time in seconds and returns a string hh:mm:ss\n",
        "    '''\n",
        "    # Round to the nearest second.\n",
        "    elapsed_rounded = int(round((elapsed)))\n",
        "    \n",
        "    # Format as hh:mm:ss\n",
        "    return str(datetime.timedelta(seconds=elapsed_rounded))"
      ],
      "metadata": {
        "id": "WkDXUTAzO3u4"
      },
      "execution_count": null,
      "outputs": []
    },
    {
      "cell_type": "markdown",
      "source": [
        "We're ready to kick off the training!"
      ],
      "metadata": {
        "id": "gqBV_ZqGO6KB"
      }
    },
    {
      "cell_type": "code",
      "source": [
        "import random\n",
        "\n",
        "# This training code is based on the `run_glue.py` script here:\n",
        "# https://github.com/huggingface/transformers/blob/5bfcd0485ece086ebcbed2d008813037968a9e58/examples/run_glue.py#L128\n",
        "\n",
        "\n",
        "# Set the seed value all over the place to make this reproducible.\n",
        "seed_val = 42\n",
        "\n",
        "random.seed(seed_val)\n",
        "np.random.seed(seed_val)\n",
        "torch.manual_seed(seed_val)\n",
        "torch.cuda.manual_seed_all(seed_val)\n",
        "\n",
        "# Store the average loss after each epoch so we can plot them.\n",
        "loss_values = []\n",
        "\n",
        "# For each epoch...\n",
        "for epoch_i in range(0, epochs):\n",
        "    \n",
        "    # ========================================\n",
        "    #               Training\n",
        "    # ========================================\n",
        "    \n",
        "    # Perform one full pass over the training set.\n",
        "\n",
        "    print(\"\")\n",
        "    print('======== Epoch {:} / {:} ========'.format(epoch_i + 1, epochs))\n",
        "    print('Training...')\n",
        "\n",
        "    # Measure how long the training epoch takes.\n",
        "    t0 = time.time()\n",
        "\n",
        "    # Reset the total loss for this epoch.\n",
        "    total_loss = 0\n",
        "\n",
        "    # Put the model into training mode. Don't be mislead--the call to \n",
        "    # `train` just changes the *mode*, it doesn't *perform* the training.\n",
        "    # `dropout` and `batchnorm` layers behave differently during training\n",
        "    # vs. test (source: https://stackoverflow.com/questions/51433378/what-does-model-train-do-in-pytorch)\n",
        "    model.train()\n",
        "\n",
        "    # For each batch of training data...\n",
        "    for step, batch in enumerate(train_dataloader):\n",
        "\n",
        "        # Progress update every 40 batches.\n",
        "        if step % 40 == 0 and not step == 0:\n",
        "            # Calculate elapsed time in minutes.\n",
        "            elapsed = format_time(time.time() - t0)\n",
        "            \n",
        "            # Report progress.\n",
        "            print('  Batch {:>5,}  of  {:>5,}.    Elapsed: {:}.'.format(step, len(train_dataloader), elapsed))\n",
        "\n",
        "        # Unpack this training batch from our dataloader. \n",
        "        #\n",
        "        # As we unpack the batch, we'll also copy each tensor to the GPU using the \n",
        "        # `to` method.\n",
        "        #\n",
        "        # `batch` contains three pytorch tensors:\n",
        "        #   [0]: input ids \n",
        "        #   [1]: attention masks\n",
        "        #   [2]: labels \n",
        "        b_input_ids = batch[0].to(device)\n",
        "        b_input_mask = batch[1].to(device)\n",
        "        b_labels = batch[2].to(device)\n",
        "\n",
        "        # Always clear any previously calculated gradients before performing a\n",
        "        # backward pass. PyTorch doesn't do this automatically because \n",
        "        # accumulating the gradients is \"convenient while training RNNs\". \n",
        "        # (source: https://stackoverflow.com/questions/48001598/why-do-we-need-to-call-zero-grad-in-pytorch)\n",
        "        model.zero_grad()        \n",
        "\n",
        "        # Perform a forward pass (evaluate the model on this training batch).\n",
        "        # This will return the loss (rather than the model output) because we\n",
        "        # have provided the `labels`.\n",
        "        # The documentation for this `model` function is here: \n",
        "        # https://huggingface.co/transformers/v2.2.0/model_doc/bert.html#transformers.BertForSequenceClassification\n",
        "        outputs = model(b_input_ids, \n",
        "                    token_type_ids=None, \n",
        "                    attention_mask=b_input_mask, \n",
        "                    labels=b_labels)\n",
        "        \n",
        "        # The call to `model` always returns a tuple, so we need to pull the \n",
        "        # loss value out of the tuple.\n",
        "        loss = outputs[0]\n",
        "\n",
        "        # Accumulate the training loss over all of the batches so that we can\n",
        "        # calculate the average loss at the end. `loss` is a Tensor containing a\n",
        "        # single value; the `.item()` function just returns the Python value \n",
        "        # from the tensor.\n",
        "        total_loss += loss.item()\n",
        "\n",
        "        # Perform a backward pass to calculate the gradients.\n",
        "        loss.backward()\n",
        "\n",
        "        # Clip the norm of the gradients to 1.0.\n",
        "        # This is to help prevent the \"exploding gradients\" problem.\n",
        "        torch.nn.utils.clip_grad_norm_(model.parameters(), 1.0)\n",
        "\n",
        "        # Update parameters and take a step using the computed gradient.\n",
        "        # The optimizer dictates the \"update rule\"--how the parameters are\n",
        "        # modified based on their gradients, the learning rate, etc.\n",
        "        optimizer.step()\n",
        "\n",
        "        # Update the learning rate.\n",
        "        scheduler.step()\n",
        "\n",
        "    # Calculate the average loss over the training data.\n",
        "    avg_train_loss = total_loss / len(train_dataloader)            \n",
        "    \n",
        "    # Store the loss value for plotting the learning curve.\n",
        "    loss_values.append(avg_train_loss)\n",
        "\n",
        "    print(\"\")\n",
        "    print(\"  Average training loss: {0:.2f}\".format(avg_train_loss))\n",
        "    print(\"  Training epcoh took: {:}\".format(format_time(time.time() - t0)))\n",
        "        \n",
        "    # ========================================\n",
        "    #               Validation\n",
        "    # ========================================\n",
        "    # After the completion of each training epoch, measure our performance on\n",
        "    # our validation set.\n",
        "\n",
        "    print(\"\")\n",
        "    print(\"Running Validation...\")\n",
        "\n",
        "    t0 = time.time()\n",
        "\n",
        "    # Put the model in evaluation mode--the dropout layers behave differently\n",
        "    # during evaluation.\n",
        "    model.eval()\n",
        "\n",
        "    # Tracking variables \n",
        "    eval_loss, eval_accuracy = 0, 0\n",
        "    nb_eval_steps, nb_eval_examples = 0, 0\n",
        "\n",
        "    # Evaluate data for one epoch\n",
        "    for batch in validation_dataloader:\n",
        "        \n",
        "        # Add batch to GPU\n",
        "        batch = tuple(t.to(device) for t in batch)\n",
        "        \n",
        "        # Unpack the inputs from our dataloader\n",
        "        b_input_ids, b_input_mask, b_labels = batch\n",
        "        \n",
        "        # Telling the model not to compute or store gradients, saving memory and\n",
        "        # speeding up validation\n",
        "        with torch.no_grad():        \n",
        "\n",
        "            # Forward pass, calculate logit predictions.\n",
        "            # This will return the logits rather than the loss because we have\n",
        "            # not provided labels.\n",
        "            # token_type_ids is the same as the \"segment ids\", which \n",
        "            # differentiates sentence 1 and 2 in 2-sentence tasks.\n",
        "            # The documentation for this `model` function is here: \n",
        "            # https://huggingface.co/transformers/v2.2.0/model_doc/bert.html#transformers.BertForSequenceClassification\n",
        "            outputs = model(b_input_ids, \n",
        "                            token_type_ids=None, \n",
        "                            attention_mask=b_input_mask)\n",
        "        \n",
        "        # Get the \"logits\" output by the model. The \"logits\" are the output\n",
        "        # values prior to applying an activation function like the softmax.\n",
        "        logits = outputs[0]\n",
        "\n",
        "        # Move logits and labels to CPU\n",
        "        logits = logits.detach().cpu().numpy()\n",
        "        label_ids = b_labels.to('cpu').numpy()\n",
        "        \n",
        "        # Calculate the accuracy for this batch of test sentences.\n",
        "        tmp_eval_accuracy = flat_accuracy(logits, label_ids)\n",
        "        \n",
        "        # Accumulate the total accuracy.\n",
        "        eval_accuracy += tmp_eval_accuracy\n",
        "\n",
        "        # Track the number of batches\n",
        "        nb_eval_steps += 1\n",
        "\n",
        "    # Report the final accuracy for this validation run.\n",
        "    print(\"  Accuracy: {0:.2f}\".format(eval_accuracy/nb_eval_steps))\n",
        "    print(\"  Validation took: {:}\".format(format_time(time.time() - t0)))\n",
        "\n",
        "print(\"\")\n",
        "print(\"Training complete!\")"
      ],
      "metadata": {
        "id": "Id1421qPPFLh"
      },
      "execution_count": null,
      "outputs": []
    },
    {
      "cell_type": "markdown",
      "source": [
        "Let's take a look at our training loss over all batches:"
      ],
      "metadata": {
        "id": "Kip_K-tZPKkg"
      }
    },
    {
      "cell_type": "code",
      "source": [
        "import matplotlib.pyplot as plt\n",
        "% matplotlib inline\n",
        "\n",
        "import seaborn as sns\n",
        "\n",
        "# Use plot styling from seaborn.\n",
        "sns.set(style='darkgrid')\n",
        "\n",
        "# Increase the plot size and font size.\n",
        "sns.set(font_scale=1.5)\n",
        "plt.rcParams[\"figure.figsize\"] = (12,6)\n",
        "\n",
        "# Plot the learning curve.\n",
        "plt.plot(loss_values, 'b-o')\n",
        "\n",
        "# Label the plot.\n",
        "plt.title(\"Training loss\")\n",
        "plt.xlabel(\"Epoch\")\n",
        "plt.ylabel(\"Loss\")\n",
        "\n",
        "plt.show()"
      ],
      "metadata": {
        "id": "IExB0xDFPNOR"
      },
      "execution_count": null,
      "outputs": []
    },
    {
      "cell_type": "markdown",
      "source": [
        "# **5. Performance On Test Set**"
      ],
      "metadata": {
        "id": "LdC2OCcSPPyK"
      }
    },
    {
      "cell_type": "markdown",
      "source": [
        "Now we'll load the holdout dataset and prepare inputs just as we did with the training set. Then we'll evaluate predictions using Matthew's correlation coefficient because this is the metric used by the wider NLP community to evaluate performance on CoLA. With this metric, +1 is the best score, and -1 is the worst score. This way, we can see how well we perform against the state of the art models for this specific task."
      ],
      "metadata": {
        "id": "lOmqhAyKPS3A"
      }
    },
    {
      "cell_type": "markdown",
      "source": [
        "## **5.1. Data Preparation**"
      ],
      "metadata": {
        "id": "nlwMhXYwPUzr"
      }
    },
    {
      "cell_type": "markdown",
      "source": [
        "We'll need to apply all of the same steps that we did for the training data to prepare our test data set."
      ],
      "metadata": {
        "id": "pRiR59r5PX6Q"
      }
    },
    {
      "cell_type": "code",
      "source": [
        "import pandas as pd\n",
        "\n",
        "# Load the dataset into a pandas dataframe.\n",
        "df = pd.read_csv(\"./cola_public/raw/out_of_domain_dev.tsv\", delimiter='\\t', header=None, names=['sentence_source', 'label', 'label_notes', 'sentence'])\n",
        "\n",
        "# Report the number of sentences.\n",
        "print('Number of test sentences: {:,}\\n'.format(df.shape[0]))\n",
        "\n",
        "# Create sentence and label lists\n",
        "sentences = df.sentence.values\n",
        "labels = df.label.values\n",
        "\n",
        "# Tokenize all of the sentences and map the tokens to thier word IDs.\n",
        "input_ids = []\n",
        "\n",
        "# For every sentence...\n",
        "for sent in sentences:\n",
        "    # `encode` will:\n",
        "    #   (1) Tokenize the sentence.\n",
        "    #   (2) Prepend the `[CLS]` token to the start.\n",
        "    #   (3) Append the `[SEP]` token to the end.\n",
        "    #   (4) Map tokens to their IDs.\n",
        "    encoded_sent = tokenizer.encode(\n",
        "                        sent,                      # Sentence to encode.\n",
        "                        add_special_tokens = True, # Add '[CLS]' and '[SEP]'\n",
        "                   )\n",
        "    \n",
        "    input_ids.append(encoded_sent)\n",
        "\n",
        "# Pad our input tokens\n",
        "input_ids = pad_sequences(input_ids, maxlen=MAX_LEN, \n",
        "                          dtype=\"long\", truncating=\"post\", padding=\"post\")\n",
        "\n",
        "# Create attention masks\n",
        "attention_masks = []\n",
        "\n",
        "# Create a mask of 1s for each token followed by 0s for padding\n",
        "for seq in input_ids:\n",
        "  seq_mask = [float(i>0) for i in seq]\n",
        "  attention_masks.append(seq_mask) \n",
        "\n",
        "# Convert to tensors.\n",
        "prediction_inputs = torch.tensor(input_ids)\n",
        "prediction_masks = torch.tensor(attention_masks)\n",
        "prediction_labels = torch.tensor(labels)\n",
        "\n",
        "# Set the batch size.  \n",
        "batch_size = 32  \n",
        "\n",
        "# Create the DataLoader.\n",
        "prediction_data = TensorDataset(prediction_inputs, prediction_masks, prediction_labels)\n",
        "prediction_sampler = SequentialSampler(prediction_data)\n",
        "prediction_dataloader = DataLoader(prediction_data, sampler=prediction_sampler, batch_size=batch_size)"
      ],
      "metadata": {
        "id": "sq24vxsdPd1Z"
      },
      "execution_count": null,
      "outputs": []
    },
    {
      "cell_type": "markdown",
      "source": [
        "## **5.2. Evaluate on Test Set**"
      ],
      "metadata": {
        "id": "II9j93udPhih"
      }
    },
    {
      "cell_type": "markdown",
      "source": [
        "With the test set prepared, we can apply our fine-tuned model to generate predictions on the test set."
      ],
      "metadata": {
        "id": "DZJ5Qhb8Pkni"
      }
    },
    {
      "cell_type": "code",
      "source": [
        "# Prediction on test set\n",
        "\n",
        "print('Predicting labels for {:,} test sentences...'.format(len(prediction_inputs)))\n",
        "\n",
        "# Put model in evaluation mode\n",
        "model.eval()\n",
        "\n",
        "# Tracking variables \n",
        "predictions , true_labels = [], []\n",
        "\n",
        "# Predict \n",
        "for batch in prediction_dataloader:\n",
        "  # Add batch to GPU\n",
        "  batch = tuple(t.to(device) for t in batch)\n",
        "  \n",
        "  # Unpack the inputs from our dataloader\n",
        "  b_input_ids, b_input_mask, b_labels = batch\n",
        "  \n",
        "  # Telling the model not to compute or store gradients, saving memory and \n",
        "  # speeding up prediction\n",
        "  with torch.no_grad():\n",
        "      # Forward pass, calculate logit predictions\n",
        "      outputs = model(b_input_ids, token_type_ids=None, \n",
        "                      attention_mask=b_input_mask)\n",
        "\n",
        "  logits = outputs[0]\n",
        "\n",
        "  # Move logits and labels to CPU\n",
        "  logits = logits.detach().cpu().numpy()\n",
        "  label_ids = b_labels.to('cpu').numpy()\n",
        "  \n",
        "  # Store predictions and true labels\n",
        "  predictions.append(logits)\n",
        "  true_labels.append(label_ids)\n",
        "\n",
        "print('    DONE.')"
      ],
      "metadata": {
        "id": "jri3lu3IPqJY"
      },
      "execution_count": null,
      "outputs": []
    },
    {
      "cell_type": "markdown",
      "source": [
        "Accuracy on the CoLA benchmark is measured using the \"[Matthews correlation coefficient](https://scikit-learn.org/stable/modules/generated/sklearn.metrics.matthews_corrcoef.html)\" (MCC).\n",
        "\n",
        "We use MCC here because the classes are imbalanced:"
      ],
      "metadata": {
        "id": "22Oa1kCpPtl5"
      }
    },
    {
      "cell_type": "code",
      "source": [
        "print('Positive samples: %d of %d (%.2f%%)' % (df.label.sum(), len(df.label), (df.label.sum() / len(df.label) * 100.0)))"
      ],
      "metadata": {
        "id": "5VM8Ir7UP5yv"
      },
      "execution_count": null,
      "outputs": []
    },
    {
      "cell_type": "code",
      "source": [
        "from sklearn.metrics import matthews_corrcoef\n",
        "\n",
        "matthews_set = []\n",
        "\n",
        "# Evaluate each test batch using Matthew's correlation coefficient\n",
        "print('Calculating Matthews Corr. Coef. for each batch...')\n",
        "\n",
        "# For each input batch...\n",
        "for i in range(len(true_labels)):\n",
        "  \n",
        "  # The predictions for this batch are a 2-column ndarray (one column for \"0\" \n",
        "  # and one column for \"1\"). Pick the label with the highest value and turn this\n",
        "  # in to a list of 0s and 1s.\n",
        "  pred_labels_i = np.argmax(predictions[i], axis=1).flatten()\n",
        "  \n",
        "  # Calculate and store the coef for this batch.  \n",
        "  matthews = matthews_corrcoef(true_labels[i], pred_labels_i)                \n",
        "  matthews_set.append(matthews)"
      ],
      "metadata": {
        "id": "pbEJQ2TjP5qI"
      },
      "execution_count": null,
      "outputs": []
    },
    {
      "cell_type": "markdown",
      "source": [
        "The final score will be based on the entire test set, but let's take a look at the scores on the individual batches to get a sense of the variability in the metric between batches.\n",
        "\n",
        "Each batch has 32 sentences in it, except the last batch which has only (516 % 32) = 4 test sentences in it."
      ],
      "metadata": {
        "id": "Fl1XpTSsP_GB"
      }
    },
    {
      "cell_type": "code",
      "source": [
        "# Combine the predictions for each batch into a single list of 0s and 1s.\n",
        "flat_predictions = [item for sublist in predictions for item in sublist]\n",
        "flat_predictions = np.argmax(flat_predictions, axis=1).flatten()\n",
        "\n",
        "# Combine the correct labels for each batch into a single list.\n",
        "flat_true_labels = [item for sublist in true_labels for item in sublist]\n",
        "\n",
        "# Calculate the MCC\n",
        "mcc = matthews_corrcoef(flat_true_labels, flat_predictions)\n",
        "\n",
        "print('MCC: %.3f' % mcc)"
      ],
      "metadata": {
        "id": "X8NSqqnJQCOQ"
      },
      "execution_count": null,
      "outputs": []
    },
    {
      "cell_type": "markdown",
      "source": [
        "Cool! In about half an hour and without doing any hyperparameter tuning (adjusting the learning rate, epochs, batch size, ADAM properties, etc.) we are able to get a good score. I should also mention we didn't train on the entire training dataset, but set aside a portion of it as our validation set for legibililty of code.\n",
        "\n",
        "The library documents the expected accuracy for this benchmark [here](https://huggingface.co/docs/transformers/examples#glue).\n",
        "\n",
        "You can also look at the official leaderboard [here](https://gluebenchmark.com/leaderboard/submission/zlssuBTm5XRs0aSKbFYGVIVdvbj1/-LhijX9VVmvJcvzKymxy).\n",
        "\n",
        "Note that (due to the small dataset size?) the accuracy can vary significantly with different random seeds."
      ],
      "metadata": {
        "id": "INcTTEuAQHW5"
      }
    },
    {
      "cell_type": "markdown",
      "source": [
        "## **Conclusion**"
      ],
      "metadata": {
        "id": "zmgC9Yu5QmLi"
      }
    },
    {
      "cell_type": "markdown",
      "source": [
        "# A1. Saving & Loading Fine-Tuned Model\n",
        "This first cell (taken from run_glue.py here) writes the model and tokenizer out to disk."
      ],
      "metadata": {
        "id": "4Vitfc_eQuUa"
      }
    },
    {
      "cell_type": "code",
      "source": [
        "import os\n",
        "\n",
        "# Saving best-practices: if you use defaults names for the model, you can reload it using from_pretrained()\n",
        "\n",
        "output_dir = './model_save/'\n",
        "\n",
        "# Create output directory if needed\n",
        "if not os.path.exists(output_dir):\n",
        "    os.makedirs(output_dir)\n",
        "\n",
        "print(\"Saving model to %s\" % output_dir)\n",
        "\n",
        "# Save a trained model, configuration and tokenizer using `save_pretrained()`.\n",
        "# They can then be reloaded using `from_pretrained()`\n",
        "model_to_save = model.module if hasattr(model, 'module') else model  # Take care of distributed/parallel training\n",
        "model_to_save.save_pretrained(output_dir)\n",
        "tokenizer.save_pretrained(output_dir)\n",
        "\n",
        "# Good practice: save your training arguments together with the trained model\n",
        "# torch.save(args, os.path.join(output_dir, 'training_args.bin'))"
      ],
      "metadata": {
        "id": "3stPg2NiQ1Yx"
      },
      "execution_count": null,
      "outputs": []
    },
    {
      "cell_type": "markdown",
      "source": [
        "Let's check out the file sizes, out of curiosity."
      ],
      "metadata": {
        "id": "pRmSEtTuQ4qA"
      }
    },
    {
      "cell_type": "code",
      "source": [
        "!ls -l --block-size=K ./model_save/"
      ],
      "metadata": {
        "id": "WLU8T19YQ76h"
      },
      "execution_count": null,
      "outputs": []
    },
    {
      "cell_type": "markdown",
      "source": [
        "The largest file is the model weights, at around 418 megabytes."
      ],
      "metadata": {
        "id": "yVhCgABSQ-ZJ"
      }
    },
    {
      "cell_type": "code",
      "source": [
        "!ls -l --block-size=M ./model_save/pytorch_model.bin"
      ],
      "metadata": {
        "id": "x-XEUXyARAqx"
      },
      "execution_count": null,
      "outputs": []
    },
    {
      "cell_type": "markdown",
      "source": [
        "To save your model across Colab Notebook sessions, download it to your local machine, or ideally copy it to your Google Drive."
      ],
      "metadata": {
        "id": "mW8OzyM0RDyB"
      }
    },
    {
      "cell_type": "code",
      "source": [
        "# Mount Google Drive to this Notebook instance.\n",
        "from google.colab import drive\n",
        "    drive.mount('/content/drive')"
      ],
      "metadata": {
        "id": "hhiT1IL7RGGJ"
      },
      "execution_count": null,
      "outputs": []
    },
    {
      "cell_type": "code",
      "source": [
        "# Copy the model files to a directory in your Google Drive.\n",
        "!cp -r ./model_save/ \"./drive/Shared drives/ChrisMcCormick.AI/Blog Posts/BERT Fine-Tuning/\""
      ],
      "metadata": {
        "id": "HbcZLTz_RGzq"
      },
      "execution_count": null,
      "outputs": []
    },
    {
      "cell_type": "markdown",
      "source": [
        "The following functions will load the model back from disk."
      ],
      "metadata": {
        "id": "3YbHxk4uRI3p"
      }
    },
    {
      "cell_type": "code",
      "source": [
        "# Load a trained model and vocabulary that you have fine-tuned\n",
        "model = model_class.from_pretrained(output_dir)\n",
        "tokenizer = tokenizer_class.from_pretrained(output_dir)\n",
        "\n",
        "# Copy the model to the GPU.\n",
        "model.to(device)"
      ],
      "metadata": {
        "id": "St2tj24tRLCJ"
      },
      "execution_count": null,
      "outputs": []
    },
    {
      "cell_type": "markdown",
      "source": [
        "# **A.2. Weight Decay**"
      ],
      "metadata": {
        "id": "bp-pYv6rRPM6"
      }
    },
    {
      "cell_type": "markdown",
      "source": [
        "The huggingface example includes the following code block for enabling weight decay, but the default decay rate is \"0.0\", so I moved this to the appendix.\n",
        "\n",
        "This block essentially tells the optimizer to not apply weight decay to the bias terms (e.g.,  b  in the equation  y=Wx+b  ). Weight decay is a form of regularization--after calculating the gradients, we multiply them by, e.g., 0.99."
      ],
      "metadata": {
        "id": "aXIqq65cRSoi"
      }
    },
    {
      "cell_type": "code",
      "source": [
        "# This code is taken from:\n",
        "# https://github.com/huggingface/transformers/blob/5bfcd0485ece086ebcbed2d008813037968a9e58/examples/run_glue.py#L102\n",
        "\n",
        "# Don't apply weight decay to any parameters whose names include these tokens.\n",
        "# (Here, the BERT doesn't have `gamma` or `beta` parameters, only `bias` terms)\n",
        "no_decay = ['bias', 'LayerNorm.weight']\n",
        "\n",
        "# Separate the `weight` parameters from the `bias` parameters. \n",
        "# - For the `weight` parameters, this specifies a 'weight_decay_rate' of 0.01. \n",
        "# - For the `bias` parameters, the 'weight_decay_rate' is 0.0. \n",
        "optimizer_grouped_parameters = [\n",
        "    # Filter for all parameters which *don't* include 'bias', 'gamma', 'beta'.\n",
        "    {'params': [p for n, p in param_optimizer if not any(nd in n for nd in no_decay)],\n",
        "     'weight_decay_rate': 0.1},\n",
        "    \n",
        "    # Filter for parameters which *do* include those.\n",
        "    {'params': [p for n, p in param_optimizer if any(nd in n for nd in no_decay)],\n",
        "     'weight_decay_rate': 0.0}\n",
        "]\n",
        "\n",
        "# Note - `optimizer_grouped_parameters` only includes the parameter values, not \n",
        "# the names."
      ],
      "metadata": {
        "id": "faSE0mNbRVfB"
      },
      "execution_count": null,
      "outputs": []
    }
  ]
}